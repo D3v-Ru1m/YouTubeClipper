{
  "nbformat": 4,
  "nbformat_minor": 0,
  "metadata": {
    "colab": {
      "provenance": []
    },
    "kernelspec": {
      "name": "python3",
      "display_name": "Python 3"
    },
    "language_info": {
      "name": "python"
    }
  },
  "cells": [
    {
      "cell_type": "markdown",
      "source": [
        "# YouTube Clipper"
      ],
      "metadata": {
        "id": "Saemy7ID0KMu"
      }
    },
    {
      "cell_type": "markdown",
      "source": [
        "<table class=\"tfo-notebook-buttons\" align=\"left\">\n",
        "\n",
        "  <td>\n",
        "    <a target=\"_blank\" href=\"https://colab.research.google.com/drive/1cnvPna6JC4nO0vm0Eu5dm4cx2FoRm-kQ?usp=sharing\"><img src=\"https://www.tensorflow.org/images/colab_logo_32px.png\" />Executar no Google Colab</a>\n",
        "  </td>\n",
        "  <td>\n",
        "    <a target=\"_blank\" href=\"https://github.com/eduardoboca/YouTubeClipper/blob/main/src/YoutubeClipper.ipynb\"><img src=\"https://www.tensorflow.org/images/GitHub-Mark-32px.png\" />Ver código no GitHub</a>\n",
        "  </td>\n",
        "</table>"
      ],
      "metadata": {
        "id": "dTO0gAWW2I8y"
      }
    },
    {
      "cell_type": "markdown",
      "source": [
        "Este projeto amplia as capacidades do Gemini para extrair informações sobre vídeos, fornecendo uma solução adaptável para análise de conteúdo de vídeo em larga escala.\n",
        "\n",
        "Ele se integra ao YouTube para processar vídeos de qualquer tamanho, mitigando as limitações do Gemini quanto ao tamanho do vídeo e download de vídeos do YouTube.\n",
        "\n",
        "A aplicação consiste em quatro partes principais:\n",
        "*   Configurações iniciais: instalação das bibliotecas necessárias e configurações de debug da aplicação.\n",
        "*   Integração com a API do YouTube para efetuar o download do vídeo e extrair o transcript.\n",
        "*   Integração com o Gemini para resumir automaticamente as transcrições dos vídeos processados.\n",
        "*   Exibição do Resultado: Exibição dos resultados processados, incluindo o resumo e a timeline do vídeo.\n",
        "\n",
        "\n",
        "\n"
      ],
      "metadata": {
        "id": "E7m3OYxd0opG"
      }
    },
    {
      "cell_type": "markdown",
      "source": [
        "## Configurações Iniciais"
      ],
      "metadata": {
        "id": "JzVdc3n86tIB"
      }
    },
    {
      "cell_type": "markdown",
      "source": [
        "### Modo de Depuração (Debug Mode)\n",
        "\n",
        "A função `debug_print` foi criada para imprimir mensagens de depuração apenas quando o modo de depuração está ativado. Para ativar o modo de depuração, defina a variável `debug` como `True`.\n"
      ],
      "metadata": {
        "id": "wFOMit1K3_xy"
      }
    },
    {
      "cell_type": "code",
      "source": [
        "debug = False\n",
        "\n",
        "def debug_print(message):\n",
        "    if debug:\n",
        "        print(message)"
      ],
      "metadata": {
        "id": "eV7ibEaX4qbZ"
      },
      "execution_count": null,
      "outputs": []
    },
    {
      "cell_type": "markdown",
      "source": [
        "### Passo 1: instalar o SDK do Gemini e as apis de download e transcrição do YouTube"
      ],
      "metadata": {
        "id": "qg2b2kez2coc"
      }
    },
    {
      "cell_type": "code",
      "source": [
        "!pip install -q -U google-generativeai"
      ],
      "metadata": {
        "id": "Fq3HhlGc2nQg"
      },
      "execution_count": null,
      "outputs": []
    },
    {
      "cell_type": "code",
      "source": [
        "!pip install -q youtube-transcript-api\n"
      ],
      "metadata": {
        "id": "P5eCjmrm3qBM"
      },
      "execution_count": null,
      "outputs": []
    },
    {
      "cell_type": "code",
      "source": [
        "!pip install -q pytube"
      ],
      "metadata": {
        "id": "kYt7E2us4nXa",
        "colab": {
          "base_uri": "https://localhost:8080/"
        },
        "outputId": "db48e2b8-8469-4ed9-b789-53b52eae9d78"
      },
      "execution_count": null,
      "outputs": [
        {
          "output_type": "stream",
          "name": "stdout",
          "text": [
            "\u001b[?25l     \u001b[90m━━━━━━━━━━━━━━━━━━━━━━━━━━━━━━━━━━━━━━━━\u001b[0m \u001b[32m0.0/57.6 kB\u001b[0m \u001b[31m?\u001b[0m eta \u001b[36m-:--:--\u001b[0m\r\u001b[2K     \u001b[90m━━━━━━━━━━━━━━━━━━━━━━━━━━━━━━━━━━━━━━━━\u001b[0m \u001b[32m57.6/57.6 kB\u001b[0m \u001b[31m2.3 MB/s\u001b[0m eta \u001b[36m0:00:00\u001b[0m\n",
            "\u001b[?25h"
          ]
        }
      ]
    },
    {
      "cell_type": "markdown",
      "source": [
        "## Integração com o YouTube"
      ],
      "metadata": {
        "id": "9QK10Zfd600R"
      }
    },
    {
      "cell_type": "markdown",
      "source": [
        "### Passo 2: fazer o download e a transcrição do vídeo no YouTube\n",
        "\n"
      ],
      "metadata": {
        "id": "BpyvtT8M4r_T"
      }
    },
    {
      "cell_type": "markdown",
      "source": [
        "Como exemplo, vamos utilizar o vídeo da aula 4 da imersão em Gemini da Alura\n",
        "\n",
        "Mas você pode testar com qualquer vídeo! Basta modificar o valor da variável *video_url* no código abaixo com o endereço do seu vídeo"
      ],
      "metadata": {
        "id": "qRmiBPrs9_4z"
      }
    },
    {
      "cell_type": "code",
      "source": [
        "#  URL do vídeo que você quer baixar\n",
        "video_url = \"https://www.youtube.com/watch?v=iwt4bOIHy7s\"\n",
        "\n",
        "from pytube import YouTube\n",
        "from youtube_transcript_api import YouTubeTranscriptApi\n",
        "import json\n",
        "\n",
        "try:\n",
        "    yt = YouTube(video_url)\n",
        "    video_stream = yt.streams.get_highest_resolution()\n",
        "\n",
        "    # Download do vídeo\n",
        "    video_stream.download()\n",
        "\n",
        "    # Extrair o ID do vídeo ID from the URL\n",
        "    video_id = video_url.split(\"v=\")[1]\n",
        "\n",
        "    # Transcript do vídeo\n",
        "    transcripts = YouTubeTranscriptApi.get_transcript(video_id, languages=['pt', 'en'])\n",
        "\n",
        "    if transcripts:\n",
        "        subtitle_text = \" \".join([entry[\"text\"] for entry in transcripts])\n",
        "\n",
        "        debug_print(\"*** Transcripts:\")\n",
        "        debug_print(subtitle_text)\n",
        "    else:\n",
        "        debug_print(\"Transcript não disponível para este vídeo.\")\n",
        "\n",
        "except Exception as e:\n",
        "    debug_print(f\"Erro: {str(e)}\")\n",
        "\n",
        "\n"
      ],
      "metadata": {
        "id": "BSfX6gkN5Alb"
      },
      "execution_count": null,
      "outputs": []
    },
    {
      "cell_type": "markdown",
      "source": [
        "### Passo 3: dividir o transcript em pedaços menores para poder enviar ao Gemini."
      ],
      "metadata": {
        "id": "vIpY2aYlAigb"
      }
    },
    {
      "cell_type": "code",
      "source": [
        "def split_transcript(transcript, max_duration=600):\n",
        "    parts = []\n",
        "    current_part = []\n",
        "    current_duration = 0\n",
        "\n",
        "    for entry in transcript:\n",
        "        if current_duration + entry[\"duration\"] <= max_duration:\n",
        "            # Serializa a entrada para JSON e adiciona à parte atual\n",
        "            current_part.append(json.dumps(entry))\n",
        "            current_duration += entry[\"duration\"]\n",
        "        else:\n",
        "            # Decodifica cada entrada de transcrição na parte atual\n",
        "            decoded_part = [bytes(entry, \"utf-8\").decode(\"unicode_escape\") for entry in current_part]\n",
        "            parts.append(decoded_part)  # Adiciona a parte atual à lista de partes\n",
        "            current_part = [json.dumps(entry)]  # Começa uma nova parte com a entrada atual\n",
        "            current_duration = entry[\"duration\"]\n",
        "\n",
        "    # Decodifica a última parte\n",
        "    decoded_part = [bytes(entry, \"utf-8\").decode(\"unicode_escape\") for entry in current_part]\n",
        "    parts.append(decoded_part)\n",
        "\n",
        "    return parts\n",
        "\n",
        "\n",
        "# Dividir o transcript em partes\n",
        "segments = split_transcript(transcripts, max_duration=600)\n",
        "\n",
        "debug_print (f\"Transcript dividido em {len(segments)} partes\")\n",
        "for segment in segments:\n",
        "  debug_print (f\"{segment[:1000]}\")\n",
        "  debug_print (\"---\")\n"
      ],
      "metadata": {
        "id": "_fpQQQc4rUAh"
      },
      "execution_count": null,
      "outputs": []
    },
    {
      "cell_type": "markdown",
      "source": [
        "## Integração com o Gemini\n",
        "\n",
        "\n"
      ],
      "metadata": {
        "id": "6JIwba9yDPTO"
      }
    },
    {
      "cell_type": "markdown",
      "source": [
        "### Passo 4: configurar a API Key do Gemini\n",
        "\n",
        "\n",
        "\n",
        "\n"
      ],
      "metadata": {
        "id": "SvepR4NR3voR"
      }
    },
    {
      "cell_type": "code",
      "source": [
        "import google.generativeai as genai\n",
        "from google.colab import userdata\n",
        "\n",
        "api_key = userdata.get('GOOGLE_API_KEY')\n",
        "genai.configure(api_key=api_key)"
      ],
      "metadata": {
        "id": "2BD-6EPs33B_"
      },
      "execution_count": null,
      "outputs": []
    },
    {
      "cell_type": "markdown",
      "source": [
        "### Passo 5: configurar o modelo"
      ],
      "metadata": {
        "id": "p7EZ4TfR4CPZ"
      }
    },
    {
      "cell_type": "code",
      "source": [
        "generation_config = {\n",
        "    \"candidate_count\" : 1,\n",
        "    \"temperature\" : 0.5\n",
        "}\n",
        "\n",
        "safety_settings = {\n",
        "    \"HARASSMENT\" : \"BLOCK_NONE\",\n",
        "    \"HATE\" : \"BLOCK_NONE\",\n",
        "    \"SEXUAL\" : \"BLOCK_NONE\",\n",
        "    \"DANGEROUS\" : \"BLOCK_NONE\"\n",
        "}\n",
        "\n",
        "model = genai.GenerativeModel(\"gemini-1.0-pro\",\n",
        "                              generation_config = generation_config,\n",
        "                              safety_settings = safety_settings)"
      ],
      "metadata": {
        "id": "3ITNdLWWE6Xj"
      },
      "execution_count": null,
      "outputs": []
    },
    {
      "cell_type": "code",
      "source": [
        "prompt = \"Preciso descrever o conteúdo de um vídeo do YouTube.\"\n",
        "prompt += \"\\n\".join(segments[0])\n",
        "\n",
        "debug_print(prompt)"
      ],
      "metadata": {
        "id": "E908b_FJ0rF_"
      },
      "execution_count": null,
      "outputs": []
    },
    {
      "cell_type": "markdown",
      "source": [
        "### Passo 6: solicitar o resumo ao Gemini\n",
        "Primeiro vamos solicitar o resumo e a timeline de cada trecho\n"
      ],
      "metadata": {
        "id": "o4zKxhm_DqWu"
      }
    },
    {
      "cell_type": "code",
      "source": [
        "summaries = []\n",
        "clips = []\n",
        "\n",
        "for segment in segments:\n",
        "  prompt = \"Preciso descrever o conteúdo de um vídeo do YouTube.\"\n",
        "  prompt += \" Aqui está o conteúdo:\"\n",
        "  prompt += \"\\n\".join(segment)\n",
        "  prompt += \" Os dados do vídeo estão no formato JSON {text:'', start:'', duration:''}. start representa o início do trecho em segundos, e duration representa a duração do trecho em segundos;\"\n",
        "  prompt += \" Quais são os assuntos discutidos nesse vídeo? Crie uma lista contendo uma descrição do assunto e o valor do campo start em que se inicia o assunto.\"\n",
        "  prompt += \" Também preciso que você faça um breve resumo do vídeo inteiro.\"\n",
        "  prompt += \" Responda no formato JSON, de forma que uma aplicação possa fazer o parse da resposta. Os campos do JSON devem ser exatamente estes: 1. summary: resumo do vídeo e 2: topics: lista dos assuntos, que também deve ter um formato JSON assim definido: 1. description e 2.start\"\n",
        "  prompt += \" O valor de start deve ser exatamente igual ao encontrado no json original.\"\n",
        "  response = model.generate_content(prompt)\n",
        "  response_text = response.text\n",
        "  response_text = response_text.replace(\"```json\", '')\n",
        "  response_text = response_text.replace(\"```\", '')\n",
        "\n",
        "  json_object = json.loads(response_text)\n",
        "\n",
        "  summaries.append(json_object[\"summary\"])\n",
        "  clips.extend(json_object[\"topics\"])\n",
        "\n",
        "for clip in clips:\n",
        "    debug_print(clip)\n"
      ],
      "metadata": {
        "id": "kQwrns3ZD7tu"
      },
      "execution_count": null,
      "outputs": []
    },
    {
      "cell_type": "markdown",
      "source": [
        "### Passo 7: juntar todos os trechos e montar o resumo geral"
      ],
      "metadata": {
        "id": "OmoxJmjRUyhX"
      }
    },
    {
      "cell_type": "code",
      "source": [
        "summaries_string = '\\n'.join(summaries)\n",
        "\n",
        "prompt = \"Preciso descrever o conteúdo de um vídeo do YouTube.\"\n",
        "prompt += \" O vídeo contém vários trechos. Vou enviar o resumo de cada trecho. Você deve ler todos eles e gerar um resumo geral.\"\n",
        "prompt += \" Retorne apenas o resumo geral. Estes são os resumos:\\n\"\n",
        "\n",
        "prompt += summaries_string\n",
        "response = model.generate_content(prompt)\n",
        "\n",
        "total_summary = response.text\n"
      ],
      "metadata": {
        "id": "4bdmGSrTU3cY"
      },
      "execution_count": null,
      "outputs": []
    },
    {
      "cell_type": "markdown",
      "source": [
        "## E finalmente temos o resumo do vídeo e a timeline!"
      ],
      "metadata": {
        "id": "3wTVcJjbgMlT"
      }
    },
    {
      "cell_type": "code",
      "source": [
        "import textwrap\n",
        "from IPython.display import display\n",
        "from IPython.display import Markdown\n",
        "\n",
        "def to_markdown(text):\n",
        "  text = text.replace('•', '  *')\n",
        "  return Markdown(textwrap.indent(text, '> ', predicate=lambda _: True))\n",
        "\n",
        "display (to_markdown(\"### Resumo:\"))\n",
        "display (to_markdown(total_summary))\n",
        "display (to_markdown(\"### Timeline:\"))\n",
        "\n",
        "for clip in clips:\n",
        "  if isinstance(clip['start'], str):\n",
        "    clip['start'] = clip['start'].replace(\"'\", \"\")\n",
        "    clip['start'] = float(clip['start'])\n",
        "\n",
        "for clip in clips:\n",
        "    link = f\"{video_url}&t={clip['start']}s\"\n",
        "    hours = int(clip['start'] // 3600)\n",
        "    minutes = int((clip['start'] % 3600) // 60)\n",
        "    seconds = int(clip['start'] % 60)\n",
        "\n",
        "    # Formato do tempo HH:MM:SS\n",
        "    time_formatted = f\"{hours:02d}:{minutes:02d}:{seconds:02d}\"\n",
        "    #time_formatted = clip['start']\n",
        "    start_aligned = f\"{time_formatted}\".ljust(10)\n",
        "    description_aligned = clip['description'].ljust(50)\n",
        "    display (to_markdown(f\"{start_aligned} - [{description_aligned}]({link})\"))\n",
        "\n"
      ],
      "metadata": {
        "colab": {
          "base_uri": "https://localhost:8080/",
          "height": 1000
        },
        "id": "rGQEwS4KgZMx",
        "outputId": "d38c180a-a2e8-4942-c9bf-1a665bd874ca"
      },
      "execution_count": null,
      "outputs": [
        {
          "output_type": "display_data",
          "data": {
            "text/plain": [
              "<IPython.core.display.Markdown object>"
            ],
            "text/markdown": "> ### Resumo:"
          },
          "metadata": {}
        },
        {
          "output_type": "display_data",
          "data": {
            "text/plain": [
              "<IPython.core.display.Markdown object>"
            ],
            "text/markdown": "> Este vídeo abrangente fornece uma compreensão aprofundada de embeddings, representações vetoriais de palavras que permitem que os computadores entendam o significado semântico do texto. Ele aborda os conceitos fundamentais de embeddings, suas aplicações em processamento de linguagem natural e a criação de modelos de embeddings usando o Gemini da IA generativa. O vídeo também orienta os espectadores na geração de embeddings de texto, realização de consultas semânticas e criação de soluções de busca de texto usando embeddings e NumPy. Além disso, ele demonstra como combinar embeddings com modelos generativos para gerar respostas personalizadas."
          },
          "metadata": {}
        },
        {
          "output_type": "display_data",
          "data": {
            "text/plain": [
              "<IPython.core.display.Markdown object>"
            ],
            "text/markdown": "> ### Timeline:"
          },
          "metadata": {}
        },
        {
          "output_type": "display_data",
          "data": {
            "text/plain": [
              "<IPython.core.display.Markdown object>"
            ],
            "text/markdown": "> 00:00:00   - [Introdução à aula e visão geral dos objetivos     ](https://www.youtube.com/watch?v=Ih64Ad5eots&t=0.001s)"
          },
          "metadata": {}
        },
        {
          "output_type": "display_data",
          "data": {
            "text/plain": [
              "<IPython.core.display.Markdown object>"
            ],
            "text/markdown": "> 00:00:36   - [Explicação do conceito de embeddings e sua importância para o acesso a documentos](https://www.youtube.com/watch?v=Ih64Ad5eots&t=36.099s)"
          },
          "metadata": {}
        },
        {
          "output_type": "display_data",
          "data": {
            "text/plain": [
              "<IPython.core.display.Markdown object>"
            ],
            "text/markdown": "> 00:06:55   - [Discussão sobre os modelos de embeddings disponíveis no Gemini](https://www.youtube.com/watch?v=Ih64Ad5eots&t=415.33s)"
          },
          "metadata": {}
        },
        {
          "output_type": "display_data",
          "data": {
            "text/plain": [
              "<IPython.core.display.Markdown object>"
            ],
            "text/markdown": "> 00:08:53   - [Explicação detalhada do que são embeddings e como eles são usados para representar palavras e fornecer contexto semântico](https://www.youtube.com/watch?v=Ih64Ad5eots&t=533.5s)"
          },
          "metadata": {}
        },
        {
          "output_type": "display_data",
          "data": {
            "text/plain": [
              "<IPython.core.display.Markdown object>"
            ],
            "text/markdown": "> 00:10:11   - [Definição de embeddings e seu uso em processamento de linguagem natural](https://www.youtube.com/watch?v=Ih64Ad5eots&t=611.5s)"
          },
          "metadata": {}
        },
        {
          "output_type": "display_data",
          "data": {
            "text/plain": [
              "<IPython.core.display.Markdown object>"
            ],
            "text/markdown": "> 00:10:31   - [Como os embeddings funcionam e como eles são criados](https://www.youtube.com/watch?v=Ih64Ad5eots&t=631.5s)"
          },
          "metadata": {}
        },
        {
          "output_type": "display_data",
          "data": {
            "text/plain": [
              "<IPython.core.display.Markdown object>"
            ],
            "text/markdown": "> 00:15:08   - [Como os embeddings são usados para comparar frases e gerar conteúdo](https://www.youtube.com/watch?v=Ih64Ad5eots&t=908.5s)"
          },
          "metadata": {}
        },
        {
          "output_type": "display_data",
          "data": {
            "text/plain": [
              "<IPython.core.display.Markdown object>"
            ],
            "text/markdown": "> 00:19:43   - [Como os parâmetros top K e top P se relacionam com embeddings](https://www.youtube.com/watch?v=Ih64Ad5eots&t=1183.5s)"
          },
          "metadata": {}
        },
        {
          "output_type": "display_data",
          "data": {
            "text/plain": [
              "<IPython.core.display.Markdown object>"
            ],
            "text/markdown": "> 00:20:26   - [Introdução ao modelo Gemini e embeddings de texto ](https://www.youtube.com/watch?v=Ih64Ad5eots&t=1226.5s)"
          },
          "metadata": {}
        },
        {
          "output_type": "display_data",
          "data": {
            "text/plain": [
              "<IPython.core.display.Markdown object>"
            ],
            "text/markdown": "> 00:21:26   - [Como inicializar o modelo Gemini                  ](https://www.youtube.com/watch?v=Ih64Ad5eots&t=1286.5s)"
          },
          "metadata": {}
        },
        {
          "output_type": "display_data",
          "data": {
            "text/plain": [
              "<IPython.core.display.Markdown object>"
            ],
            "text/markdown": "> 00:21:30   - [Como gerar embeddings para um texto de amostra    ](https://www.youtube.com/watch?v=Ih64Ad5eots&t=1290.5s)"
          },
          "metadata": {}
        },
        {
          "output_type": "display_data",
          "data": {
            "text/plain": [
              "<IPython.core.display.Markdown object>"
            ],
            "text/markdown": "> 00:28:52   - [Como criar uma função para automatizar a geração de embeddings](https://www.youtube.com/watch?v=Ih64Ad5eots&t=1732.708s)"
          },
          "metadata": {}
        },
        {
          "output_type": "display_data",
          "data": {
            "text/plain": [
              "<IPython.core.display.Markdown object>"
            ],
            "text/markdown": "> 00:29:27   - [Como usar o Pandas para manipular e armazenar embeddings](https://www.youtube.com/watch?v=Ih64Ad5eots&t=1767.208s)"
          },
          "metadata": {}
        },
        {
          "output_type": "display_data",
          "data": {
            "text/plain": [
              "<IPython.core.display.Markdown object>"
            ],
            "text/markdown": "> 00:00:00   - [Introdução ao Gemini e seus recursos              ](https://www.youtube.com/watch?v=Ih64Ad5eots&t=0s)"
          },
          "metadata": {}
        },
        {
          "output_type": "display_data",
          "data": {
            "text/plain": [
              "<IPython.core.display.Markdown object>"
            ],
            "text/markdown": "> 00:30:45   - [Como criar uma função para gerar embeddings de texto](https://www.youtube.com/watch?v=Ih64Ad5eots&t=1845.5s)"
          },
          "metadata": {}
        },
        {
          "output_type": "display_data",
          "data": {
            "text/plain": [
              "<IPython.core.display.Markdown object>"
            ],
            "text/markdown": "> 00:34:51   - [Como usar a função apply do Pandas para aplicar a função a cada linha do DataFrame](https://www.youtube.com/watch?v=Ih64Ad5eots&t=2091.5s)"
          },
          "metadata": {}
        },
        {
          "output_type": "display_data",
          "data": {
            "text/plain": [
              "<IPython.core.display.Markdown object>"
            ],
            "text/markdown": "> 00:39:30   - [Como usar o Gemini para realizar consultas semânticas no DataFrame](https://www.youtube.com/watch?v=Ih64Ad5eots&t=2370.755s)"
          },
          "metadata": {}
        },
        {
          "output_type": "display_data",
          "data": {
            "text/plain": [
              "<IPython.core.display.Markdown object>"
            ],
            "text/markdown": "> 00:41:05   - [Introdução ao embedding e sua criação             ](https://www.youtube.com/watch?v=Ih64Ad5eots&t=2465.5s)"
          },
          "metadata": {}
        },
        {
          "output_type": "display_data",
          "data": {
            "text/plain": [
              "<IPython.core.display.Markdown object>"
            ],
            "text/markdown": "> 00:43:01   - [Cálculo da distância entre embeddings             ](https://www.youtube.com/watch?v=Ih64Ad5eots&t=2581.5s)"
          },
          "metadata": {}
        },
        {
          "output_type": "display_data",
          "data": {
            "text/plain": [
              "<IPython.core.display.Markdown object>"
            ],
            "text/markdown": "> 00:47:41   - [Retorno do texto mais relevante para uma consulta ](https://www.youtube.com/watch?v=Ih64Ad5eots&t=2861.158s)"
          },
          "metadata": {}
        },
        {
          "output_type": "display_data",
          "data": {
            "text/plain": [
              "<IPython.core.display.Markdown object>"
            ],
            "text/markdown": "> 00:43:09   - [Uso de embeddings para entender o significado semântico do texto](https://www.youtube.com/watch?v=Ih64Ad5eots&t=2589.5s)"
          },
          "metadata": {}
        },
        {
          "output_type": "display_data",
          "data": {
            "text/plain": [
              "<IPython.core.display.Markdown object>"
            ],
            "text/markdown": "> 00:51:13   - [Tradução de consultas de usuário para conteúdo armazenado em formato de embedding](https://www.youtube.com/watch?v=Ih64Ad5eots&t=3073.411s)"
          },
          "metadata": {}
        },
        {
          "output_type": "display_data",
          "data": {
            "text/plain": [
              "<IPython.core.display.Markdown object>"
            ],
            "text/markdown": "> 00:51:26   - [Como criar um modelo de embeddings usando o Gemini](https://www.youtube.com/watch?v=Ih64Ad5eots&t=3086.2s)"
          },
          "metadata": {}
        },
        {
          "output_type": "display_data",
          "data": {
            "text/plain": [
              "<IPython.core.display.Markdown object>"
            ],
            "text/markdown": "> 00:52:01   - [Como usar o modelo de embeddings para buscar informações em documentos](https://www.youtube.com/watch?v=Ih64Ad5eots&t=3121.634s)"
          },
          "metadata": {}
        },
        {
          "output_type": "display_data",
          "data": {
            "text/plain": [
              "<IPython.core.display.Markdown object>"
            ],
            "text/markdown": "> 00:56:05   - [Como combinar o modelo de embeddings com o modelo generativo do Gemini para gerar respostas mais criativas e personalizadas](https://www.youtube.com/watch?v=Ih64Ad5eots&t=3365.356s)"
          },
          "metadata": {}
        },
        {
          "output_type": "display_data",
          "data": {
            "text/plain": [
              "<IPython.core.display.Markdown object>"
            ],
            "text/markdown": "> 01:00:30   - [Cuidados a serem tomados ao usar o Gemini com informações confidenciais](https://www.youtube.com/watch?v=Ih64Ad5eots&t=3630.658s)"
          },
          "metadata": {}
        },
        {
          "output_type": "display_data",
          "data": {
            "text/plain": [
              "<IPython.core.display.Markdown object>"
            ],
            "text/markdown": "> 01:01:39   - [Conclusão do desafio do projeto                   ](https://www.youtube.com/watch?v=Ih64Ad5eots&t=3699.243s)"
          },
          "metadata": {}
        },
        {
          "output_type": "display_data",
          "data": {
            "text/plain": [
              "<IPython.core.display.Markdown object>"
            ],
            "text/markdown": "> 01:02:22   - [Critérios de avaliação do projeto                 ](https://www.youtube.com/watch?v=Ih64Ad5eots&t=3742.466s)"
          },
          "metadata": {}
        },
        {
          "output_type": "display_data",
          "data": {
            "text/plain": [
              "<IPython.core.display.Markdown object>"
            ],
            "text/markdown": "> 01:04:34   - [Dicas para usar o AI Studio e código de exemplo   ](https://www.youtube.com/watch?v=Ih64Ad5eots&t=3874.158s)"
          },
          "metadata": {}
        },
        {
          "output_type": "display_data",
          "data": {
            "text/plain": [
              "<IPython.core.display.Markdown object>"
            ],
            "text/markdown": "> 01:06:17   - [Promoção dos cursos e escolas da Alura            ](https://www.youtube.com/watch?v=Ih64Ad5eots&t=3977.623s)"
          },
          "metadata": {}
        },
        {
          "output_type": "display_data",
          "data": {
            "text/plain": [
              "<IPython.core.display.Markdown object>"
            ],
            "text/markdown": "> 01:07:39   - [Convite para ingressar na comunidade Google Cloud Innovators](https://www.youtube.com/watch?v=Ih64Ad5eots&t=4059.075s)"
          },
          "metadata": {}
        },
        {
          "output_type": "display_data",
          "data": {
            "text/plain": [
              "<IPython.core.display.Markdown object>"
            ],
            "text/markdown": "> 01:08:07   - [Convite para assistir ao Google I/O               ](https://www.youtube.com/watch?v=Ih64Ad5eots&t=4087.15s)"
          },
          "metadata": {}
        }
      ]
    },
    {
      "cell_type": "markdown",
      "source": [
        "## Extra: Identificar *qualquer palavra ou frase* no vídeo\n",
        "\n"
      ],
      "metadata": {
        "id": "0Tv551juawO_"
      }
    },
    {
      "cell_type": "markdown",
      "source": [
        "### Parte 1:\n",
        "Buscar a a palavra em cada trecho"
      ],
      "metadata": {
        "id": "wg5LWuVBbFk2"
      }
    },
    {
      "cell_type": "code",
      "source": [
        "debug = False\n",
        "clips = []\n",
        "frase = \"desafio\"\n",
        "\n",
        "def is_valid_json(json_str):\n",
        "    try:\n",
        "        json.loads(json_str)\n",
        "        return True\n",
        "    except json.JSONDecodeError:\n",
        "        return False\n",
        "\n",
        "for segment in segments:\n",
        "  prompt = \"Preciso buscar uma frase em um vídeo\"\n",
        "  prompt += \" Aqui está o transcript do vídeo:\"\n",
        "  prompt += \"\\n\".join(segment)\n",
        "  prompt += \" Os dados do vídeo estão no formato JSON {text:'', start:'', duration:''}. start representa o início do trecho em segundos, e duration representa a duração do trecho em segundos;\"\n",
        "  prompt += f\" Identifique os trechos em que a expressão {frase} é falada\"\n",
        "  prompt += \" Responda no formato JSON, de forma que uma aplicação possa fazer o parse da resposta. Os campos do JSON devem ser exatamente estes: topics: lista dos assuntos, que também deve ter um formato JSON assim definido: 1. description e 2.start\"\n",
        "  response = model.generate_content(prompt)\n",
        "  response_text = response.text\n",
        "  response_text = response_text.replace(\"```json\", '')\n",
        "  response_text = response_text.replace(\"```\", '')\n",
        "\n",
        "  if is_valid_json(response_text):\n",
        "    json_object = json.loads(response_text)\n",
        "    clips.extend(json_object[\"topics\"])\n",
        "\n",
        "for clip in clips:\n",
        "    debug_print(clip)\n"
      ],
      "metadata": {
        "id": "ILjgN_TRbOtd"
      },
      "execution_count": null,
      "outputs": []
    },
    {
      "cell_type": "markdown",
      "source": [
        "### Parte 2: formatação e impressão do resultado"
      ],
      "metadata": {
        "id": "BPjATq7ec1nN"
      }
    },
    {
      "cell_type": "code",
      "source": [
        "import textwrap\n",
        "from IPython.display import display\n",
        "from IPython.display import Markdown\n",
        "\n",
        "def to_markdown(text):\n",
        "  text = text.replace('•', '  *')\n",
        "  return Markdown(textwrap.indent(text, '> ', predicate=lambda _: True))\n",
        "\n",
        "display (to_markdown(\"### Resultado:\"))\n",
        "\n",
        "for clip in clips:\n",
        "  if isinstance(clip['start'], str):\n",
        "    clip['start'] = clip['start'].replace(\"'\", \"\")\n",
        "    clip['start'] = float(clip['start'])\n",
        "\n",
        "for clip in clips:\n",
        "    link = f\"{video_url}&t={clip['start']}s\"\n",
        "    hours = int(clip['start'] // 3600)\n",
        "    minutes = int((clip['start'] % 3600) // 60)\n",
        "    seconds = int(clip['start'] % 60)\n",
        "\n",
        "    # Formato do tempo HH:MM:SS\n",
        "    time_formatted = f\"{hours:02d}:{minutes:02d}:{seconds:02d}\"\n",
        "    #time_formatted = clip['start']\n",
        "    start_aligned = f\"{time_formatted}\".ljust(10)\n",
        "    description_aligned = clip['description'].ljust(50)\n",
        "    display (to_markdown(f\"{start_aligned} - [{description_aligned}]({link})\"))"
      ],
      "metadata": {
        "colab": {
          "base_uri": "https://localhost:8080/",
          "height": 601
        },
        "id": "tFGzglBMc5-B",
        "outputId": "d2b4c737-d733-4962-f4db-4493c63be4b7"
      },
      "execution_count": null,
      "outputs": [
        {
          "output_type": "display_data",
          "data": {
            "text/plain": [
              "<IPython.core.display.Markdown object>"
            ],
            "text/markdown": "> ### Resultado:"
          },
          "metadata": {}
        },
        {
          "output_type": "display_data",
          "data": {
            "text/plain": [
              "<IPython.core.display.Markdown object>"
            ],
            "text/markdown": "> 00:20:20   - [IA Alura + Google                                 ](https://www.youtube.com/watch?v=Ih64Ad5eots&t=1220.179s)"
          },
          "metadata": {}
        },
        {
          "output_type": "display_data",
          "data": {
            "text/plain": [
              "<IPython.core.display.Markdown object>"
            ],
            "text/markdown": "> 01:02:08   - [Plano Pro da Alura na faixa,                      ](https://www.youtube.com/watch?v=Ih64Ad5eots&t=3728.002s)"
          },
          "metadata": {}
        },
        {
          "output_type": "display_data",
          "data": {
            "text/plain": [
              "<IPython.core.display.Markdown object>"
            ],
            "text/markdown": "> 01:03:03   - [Você pode fazer quantos projetos você quiser,     ](https://www.youtube.com/watch?v=Ih64Ad5eots&t=3783.862s)"
          },
          "metadata": {}
        },
        {
          "output_type": "display_data",
          "data": {
            "text/plain": [
              "<IPython.core.display.Markdown object>"
            ],
            "text/markdown": "> 01:04:29   - [E também, um outro ponto é que tem que ter relação com o conteúdo da imersão.](https://www.youtube.com/watch?v=Ih64Ad5eots&t=3869.94s)"
          },
          "metadata": {}
        },
        {
          "output_type": "display_data",
          "data": {
            "text/plain": [
              "<IPython.core.display.Markdown object>"
            ],
            "text/markdown": "> 01:06:13   - [Se você gostou do conteúdo que apresentamos junto com o Google,](https://www.youtube.com/watch?v=Ih64Ad5eots&t=3973.817s)"
          },
          "metadata": {}
        },
        {
          "output_type": "display_data",
          "data": {
            "text/plain": [
              "<IPython.core.display.Markdown object>"
            ],
            "text/markdown": "> 01:06:17   - [você pode se tornar aluno ou aluna da Alura       ](https://www.youtube.com/watch?v=Ih64Ad5eots&t=3977.623s)"
          },
          "metadata": {}
        },
        {
          "output_type": "display_data",
          "data": {
            "text/plain": [
              "<IPython.core.display.Markdown object>"
            ],
            "text/markdown": "> 01:06:31   - [Como o Paulo sempre fala: a IA não é um hype, não é uma modinha,](https://www.youtube.com/watch?v=Ih64Ad5eots&t=3991.991s)"
          },
          "metadata": {}
        },
        {
          "output_type": "display_data",
          "data": {
            "text/plain": [
              "<IPython.core.display.Markdown object>"
            ],
            "text/markdown": "> 01:06:39   - [Seja você de marketing, de advocacia, dados financeiros,](https://www.youtube.com/watch?v=Ih64Ad5eots&t=3999.775s)"
          },
          "metadata": {}
        },
        {
          "output_type": "display_data",
          "data": {
            "text/plain": [
              "<IPython.core.display.Markdown object>"
            ],
            "text/markdown": "> 01:06:43   - [não importa, vai estar em todas as carreiras.     ](https://www.youtube.com/watch?v=Ih64Ad5eots&t=4003.688s)"
          },
          "metadata": {}
        },
        {
          "output_type": "display_data",
          "data": {
            "text/plain": [
              "<IPython.core.display.Markdown object>"
            ],
            "text/markdown": "> 01:06:46   - [Então, isso é importante e esses cursos são exatamente para segurar a sua mão](https://www.youtube.com/watch?v=Ih64Ad5eots&t=4006.423s)"
          },
          "metadata": {}
        },
        {
          "output_type": "display_data",
          "data": {
            "text/plain": [
              "<IPython.core.display.Markdown object>"
            ],
            "text/markdown": "> 01:06:51   - [para você começar a utilizar cada uma delas.      ](https://www.youtube.com/watch?v=Ih64Ad5eots&t=4011.174s)"
          },
          "metadata": {}
        },
        {
          "output_type": "display_data",
          "data": {
            "text/plain": [
              "<IPython.core.display.Markdown object>"
            ],
            "text/markdown": "> 01:06:56   - [eu acho que eu recomendaria também a Escola de Dados da Alura,](https://www.youtube.com/watch?v=Ih64Ad5eots&t=4016.661s)"
          },
          "metadata": {}
        },
        {
          "output_type": "display_data",
          "data": {
            "text/plain": [
              "<IPython.core.display.Markdown object>"
            ],
            "text/markdown": "> 01:07:23   - [temos até curso de Excel,                         ](https://www.youtube.com/watch?v=Ih64Ad5eots&t=4043.658s)"
          },
          "metadata": {}
        },
        {
          "output_type": "display_data",
          "data": {
            "text/plain": [
              "<IPython.core.display.Markdown object>"
            ],
            "text/markdown": "> 01:07:25   - [coisas de programação front-end, back-end, gestão e inovação também.](https://www.youtube.com/watch?v=Ih64Ad5eots&t=4045.95s)"
          },
          "metadata": {}
        },
        {
          "output_type": "display_data",
          "data": {
            "text/plain": [
              "<IPython.core.display.Markdown object>"
            ],
            "text/markdown": "> 01:07:29   - [Tem várias escolas na Alura,                      ](https://www.youtube.com/watch?v=Ih64Ad5eots&t=4049.842s)"
          },
          "metadata": {}
        },
        {
          "output_type": "display_data",
          "data": {
            "text/plain": [
              "<IPython.core.display.Markdown object>"
            ],
            "text/markdown": "> 01:07:31   - [na segunda-feira você vai ter a oportunidade de se matricular](https://www.youtube.com/watch?v=Ih64Ad5eots&t=4051.476s)"
          },
          "metadata": {}
        },
        {
          "output_type": "display_data",
          "data": {
            "text/plain": [
              "<IPython.core.display.Markdown object>"
            ],
            "text/markdown": "> 01:07:34   - [com esse descontaço!                              ](https://www.youtube.com/watch?v=Ih64Ad5eots&t=4054.359s)"
          },
          "metadata": {}
        }
      ]
    }
  ]
}