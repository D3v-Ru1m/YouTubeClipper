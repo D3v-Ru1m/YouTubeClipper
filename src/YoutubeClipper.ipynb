{
  "nbformat": 4,
  "nbformat_minor": 0,
  "metadata": {
    "colab": {
      "provenance": []
    },
    "kernelspec": {
      "name": "python3",
      "display_name": "Python 3"
    },
    "language_info": {
      "name": "python"
    }
  },
  "cells": [
    {
      "cell_type": "markdown",
      "source": [
        "# YouTube Clipper"
      ],
      "metadata": {
        "id": "Saemy7ID0KMu"
      }
    },
    {
      "cell_type": "markdown",
      "source": [
        "<table class=\"tfo-notebook-buttons\" align=\"left\">\n",
        "\n",
        "  <td>\n",
        "    <a target=\"_blank\" href=\"https://colab.research.google.com/drive/1cnvPna6JC4nO0vm0Eu5dm4cx2FoRm-kQ?usp=sharing\"><img src=\"https://www.tensorflow.org/images/colab_logo_32px.png\" />Executar no Google Colab</a>\n",
        "  </td>\n",
        "  <td>\n",
        "    <a target=\"_blank\" href=\"https://github.com/eduardoboca/YouTubeClipper/blob/main/src/YoutubeClipper.ipynb\"><img src=\"https://www.tensorflow.org/images/GitHub-Mark-32px.png\" />Ver código no GitHub</a>\n",
        "  </td>\n",
        "</table>"
      ],
      "metadata": {
        "id": "dTO0gAWW2I8y"
      }
    },
    {
      "cell_type": "markdown",
      "source": [
        "Este projeto amplia as capacidades do Gemini para extrair informações sobre vídeos, fornecendo uma solução adaptável para análise de conteúdo de vídeo em larga escala.\n",
        "\n",
        "Ele se integra ao YouTube para processar vídeos de qualquer tamanho, mitigando as limitações do Gemini quanto ao tamanho do vídeo e download de vídeos do YouTube.\n",
        "\n",
        "A aplicação consiste em quatro partes principais:\n",
        "*   Configurações iniciais: instalação das bibliotecas necessárias e configurações de debug da aplicação.\n",
        "*   Integração com a API do YouTube para efetuar o download do vídeo e extrair o transcript.\n",
        "*   Integração com o Gemini para resumir automaticamente as transcrições dos vídeos processados.\n",
        "*   Exibição do Resultado: Exibição dos resultados processados, incluindo o resumo e a timeline do vídeo.\n",
        "\n",
        "\n",
        "\n"
      ],
      "metadata": {
        "id": "E7m3OYxd0opG"
      }
    },
    {
      "cell_type": "markdown",
      "source": [
        "## Configurações Iniciais"
      ],
      "metadata": {
        "id": "JzVdc3n86tIB"
      }
    },
    {
      "cell_type": "markdown",
      "source": [
        "### Modo de Depuração (Debug Mode)\n",
        "\n",
        "A função `debug_print` foi criada para imprimir mensagens de depuração apenas quando o modo de depuração está ativado. Para ativar o modo de depuração, defina a variável `debug` como `True`.\n"
      ],
      "metadata": {
        "id": "wFOMit1K3_xy"
      }
    },
    {
      "cell_type": "code",
      "source": [
        "debug = False\n",
        "\n",
        "def debug_print(message):\n",
        "    if debug:\n",
        "        print(message)"
      ],
      "metadata": {
        "id": "eV7ibEaX4qbZ"
      },
      "execution_count": 5,
      "outputs": []
    },
    {
      "cell_type": "markdown",
      "source": [
        "### Passo 1: instalar o SDK do Gemini e as apis de download e transcrição do YouTube"
      ],
      "metadata": {
        "id": "qg2b2kez2coc"
      }
    },
    {
      "cell_type": "code",
      "source": [
        "!pip install -q -U google-generativeai"
      ],
      "metadata": {
        "id": "Fq3HhlGc2nQg"
      },
      "execution_count": 6,
      "outputs": []
    },
    {
      "cell_type": "code",
      "source": [
        "!pip install -q youtube-transcript-api\n"
      ],
      "metadata": {
        "id": "P5eCjmrm3qBM"
      },
      "execution_count": 7,
      "outputs": []
    },
    {
      "cell_type": "code",
      "source": [
        "!pip install -q pytube"
      ],
      "metadata": {
        "id": "kYt7E2us4nXa"
      },
      "execution_count": 8,
      "outputs": []
    },
    {
      "cell_type": "markdown",
      "source": [
        "## Integração com o YouTube"
      ],
      "metadata": {
        "id": "9QK10Zfd600R"
      }
    },
    {
      "cell_type": "markdown",
      "source": [
        "### Passo 2: fazer o download e a transcrição do vídeo no YouTube\n",
        "\n"
      ],
      "metadata": {
        "id": "BpyvtT8M4r_T"
      }
    },
    {
      "cell_type": "markdown",
      "source": [
        "Como exemplo, vamos utilizar o vídeo da aula 4 da imersão em Gemini da Alura\n",
        "\n",
        "Mas você pode testar com qualquer vídeo! Basta modificar o valor da variável *video_url* no código abaixo com o endereço do seu vídeo"
      ],
      "metadata": {
        "id": "qRmiBPrs9_4z"
      }
    },
    {
      "cell_type": "code",
      "source": [
        "#  URL do vídeo que você quer baixar\n",
        "video_url = \"https://www.youtube.com/watch?v=iwt4bOIHy7s\"\n",
        "\n",
        "from pytube import YouTube\n",
        "from youtube_transcript_api import YouTubeTranscriptApi\n",
        "import json\n",
        "\n",
        "try:\n",
        "    yt = YouTube(video_url)\n",
        "    video_stream = yt.streams.get_highest_resolution()\n",
        "\n",
        "    # Download do vídeo\n",
        "    video_stream.download()\n",
        "\n",
        "    # Extrair o ID do vídeo ID from the URL\n",
        "    video_id = video_url.split(\"v=\")[1]\n",
        "\n",
        "    # Transcript do vídeo\n",
        "    transcripts = YouTubeTranscriptApi.get_transcript(video_id, languages=['pt', 'en'])\n",
        "\n",
        "    if transcripts:\n",
        "        subtitle_text = \" \".join([entry[\"text\"] for entry in transcripts])\n",
        "\n",
        "        debug_print(\"*** Transcripts:\")\n",
        "        debug_print(subtitle_text)\n",
        "    else:\n",
        "        debug_print(\"Transcript não disponível para este vídeo.\")\n",
        "\n",
        "except Exception as e:\n",
        "    debug_print(f\"Erro: {str(e)}\")\n",
        "\n",
        "\n"
      ],
      "metadata": {
        "id": "BSfX6gkN5Alb"
      },
      "execution_count": 9,
      "outputs": []
    },
    {
      "cell_type": "markdown",
      "source": [
        "### Passo 3: dividir o transcript em pedaços menores para poder enviar ao Gemini."
      ],
      "metadata": {
        "id": "vIpY2aYlAigb"
      }
    },
    {
      "cell_type": "code",
      "source": [
        "def split_transcript(transcript, max_duration=600):\n",
        "    parts = []\n",
        "    current_part = []\n",
        "    current_duration = 0\n",
        "\n",
        "    for entry in transcript:\n",
        "        if current_duration + entry[\"duration\"] <= max_duration:\n",
        "            # Serializa a entrada para JSON e adiciona à parte atual\n",
        "            current_part.append(json.dumps(entry))\n",
        "            current_duration += entry[\"duration\"]\n",
        "        else:\n",
        "            # Decodifica cada entrada de transcrição na parte atual\n",
        "            decoded_part = [bytes(entry, \"utf-8\").decode(\"unicode_escape\") for entry in current_part]\n",
        "            parts.append(decoded_part)  # Adiciona a parte atual à lista de partes\n",
        "            current_part = [json.dumps(entry)]  # Começa uma nova parte com a entrada atual\n",
        "            current_duration = entry[\"duration\"]\n",
        "\n",
        "    # Decodifica a última parte\n",
        "    decoded_part = [bytes(entry, \"utf-8\").decode(\"unicode_escape\") for entry in current_part]\n",
        "    parts.append(decoded_part)\n",
        "\n",
        "    return parts\n",
        "\n",
        "\n",
        "# Dividir o transcript em partes\n",
        "segments = split_transcript(transcripts, max_duration=600)\n",
        "\n",
        "debug_print (f\"Transcript dividido em {len(segments)} partes\")\n",
        "for segment in segments:\n",
        "  debug_print (f\"{segment[:1000]}\")\n",
        "  debug_print (\"---\")\n"
      ],
      "metadata": {
        "id": "_fpQQQc4rUAh"
      },
      "execution_count": 10,
      "outputs": []
    },
    {
      "cell_type": "markdown",
      "source": [
        "## Integração com o Gemini\n",
        "\n",
        "\n"
      ],
      "metadata": {
        "id": "6JIwba9yDPTO"
      }
    },
    {
      "cell_type": "markdown",
      "source": [
        "### Passo 4: configurar a API Key do Gemini\n",
        "\n",
        "\n",
        "\n",
        "\n"
      ],
      "metadata": {
        "id": "SvepR4NR3voR"
      }
    },
    {
      "cell_type": "code",
      "source": [
        "import google.generativeai as genai\n",
        "from google.colab import userdata\n",
        "\n",
        "api_key = userdata.get('GOOGLE_API_KEY')\n",
        "genai.configure(api_key=api_key)"
      ],
      "metadata": {
        "id": "2BD-6EPs33B_"
      },
      "execution_count": 11,
      "outputs": []
    },
    {
      "cell_type": "markdown",
      "source": [
        "### Passo 5: configurar o modelo"
      ],
      "metadata": {
        "id": "p7EZ4TfR4CPZ"
      }
    },
    {
      "cell_type": "code",
      "source": [
        "generation_config = {\n",
        "    \"candidate_count\" : 1,\n",
        "    \"temperature\" : 0.5\n",
        "}\n",
        "\n",
        "safety_settings = {\n",
        "    \"HARASSMENT\" : \"BLOCK_NONE\",\n",
        "    \"HATE\" : \"BLOCK_NONE\",\n",
        "    \"SEXUAL\" : \"BLOCK_NONE\",\n",
        "    \"DANGEROUS\" : \"BLOCK_NONE\"\n",
        "}\n",
        "\n",
        "model = genai.GenerativeModel(\"gemini-1.0-pro\",\n",
        "                              generation_config = generation_config,\n",
        "                              safety_settings = safety_settings)"
      ],
      "metadata": {
        "id": "3ITNdLWWE6Xj"
      },
      "execution_count": 12,
      "outputs": []
    },
    {
      "cell_type": "code",
      "source": [
        "prompt = \"Preciso descrever o conteúdo de um vídeo do YouTube.\"\n",
        "prompt += \"\\n\".join(segments[0])\n",
        "\n",
        "debug_print(prompt)"
      ],
      "metadata": {
        "id": "E908b_FJ0rF_"
      },
      "execution_count": 13,
      "outputs": []
    },
    {
      "cell_type": "markdown",
      "source": [
        "### Passo 6: solicitar o resumo ao Gemini\n",
        "Primeiro vamos solicitar o resumo e a timeline de cada trecho\n"
      ],
      "metadata": {
        "id": "o4zKxhm_DqWu"
      }
    },
    {
      "cell_type": "code",
      "source": [
        "summaries = []\n",
        "clips = []\n",
        "\n",
        "for segment in segments:\n",
        "  prompt = \"Preciso descrever o conteúdo de um vídeo do YouTube.\"\n",
        "  prompt += \" Aqui está o conteúdo:\"\n",
        "  prompt += \"\\n\".join(segment)\n",
        "  prompt += \" Os dados do vídeo estão no formato JSON {text:'', start:'', duration:''}. start representa o início do trecho em segundos, e duration representa a duração do trecho em segundos;\"\n",
        "  prompt += \" Quais são os assuntos discutidos nesse vídeo? Crie uma lista contendo uma descrição do assunto e o valor do campo start em que se inicia o assunto.\"\n",
        "  prompt += \" Também preciso que você faça um breve resumo do vídeo inteiro.\"\n",
        "  prompt += \" Responda no formato JSON, de forma que uma aplicação possa fazer o parse da resposta. Os campos do JSON devem ser exatamente estes: 1. summary: resumo do vídeo e 2: topics: lista dos assuntos, que também deve ter um formato JSON assim definido: 1. description e 2.start\"\n",
        "  prompt += \" O valor de start deve ser exatamente igual ao encontrado no json original.\"\n",
        "  response = model.generate_content(prompt)\n",
        "  response_text = response.text\n",
        "  response_text = response_text.replace(\"```json\", '')\n",
        "  response_text = response_text.replace(\"```\", '')\n",
        "\n",
        "  json_object = json.loads(response_text)\n",
        "\n",
        "  summaries.append(json_object[\"summary\"])\n",
        "  clips.extend(json_object[\"topics\"])\n",
        "\n",
        "for clip in clips:\n",
        "    debug_print(clip)\n"
      ],
      "metadata": {
        "id": "kQwrns3ZD7tu"
      },
      "execution_count": 14,
      "outputs": []
    },
    {
      "cell_type": "markdown",
      "source": [
        "### Passo 7: juntar todos os trechos e montar o resumo geral"
      ],
      "metadata": {
        "id": "OmoxJmjRUyhX"
      }
    },
    {
      "cell_type": "code",
      "source": [
        "summaries_string = '\\n'.join(summaries)\n",
        "\n",
        "prompt = \"Preciso descrever o conteúdo de um vídeo do YouTube.\"\n",
        "prompt += \" O vídeo contém vários trechos. Vou enviar o resumo de cada trecho. Você deve ler todos eles e gerar um resumo geral.\"\n",
        "prompt += \" Retorne apenas o resumo geral. Estes são os resumos:\\n\"\n",
        "\n",
        "prompt += summaries_string\n",
        "response = model.generate_content(prompt)\n",
        "\n",
        "total_summary = response.text\n"
      ],
      "metadata": {
        "id": "4bdmGSrTU3cY"
      },
      "execution_count": 15,
      "outputs": []
    },
    {
      "cell_type": "markdown",
      "source": [
        "## E finalmente temos o resumo do vídeo e a timeline!"
      ],
      "metadata": {
        "id": "3wTVcJjbgMlT"
      }
    },
    {
      "cell_type": "code",
      "source": [
        "import textwrap\n",
        "from IPython.display import display\n",
        "from IPython.display import Markdown\n",
        "\n",
        "def to_markdown(text):\n",
        "  text = text.replace('•', '  *')\n",
        "  return Markdown(textwrap.indent(text, '> ', predicate=lambda _: True))\n",
        "\n",
        "display (to_markdown(\"### Resumo:\"))\n",
        "display (to_markdown(total_summary))\n",
        "display (to_markdown(\"### Timeline:\"))\n",
        "\n",
        "for clip in clips:\n",
        "  if isinstance(clip['start'], str):\n",
        "    clip['start'] = clip['start'].replace(\"'\", \"\")\n",
        "    clip['start'] = float(clip['start'])\n",
        "\n",
        "for clip in clips:\n",
        "    link = f\"{video_url}&t={clip['start']}s\"\n",
        "    hours = int(clip['start'] // 3600)\n",
        "    minutes = int((clip['start'] % 3600) // 60)\n",
        "    seconds = int(clip['start'] % 60)\n",
        "\n",
        "    # Formato do tempo HH:MM:SS\n",
        "    time_formatted = f\"{hours:02d}:{minutes:02d}:{seconds:02d}\"\n",
        "    #time_formatted = clip['start']\n",
        "    start_aligned = f\"{time_formatted}\".ljust(10)\n",
        "    description_aligned = clip['description'].ljust(50)\n",
        "    display (to_markdown(f\"{start_aligned} - [{description_aligned}]({link})\"))\n",
        "\n"
      ],
      "metadata": {
        "colab": {
          "base_uri": "https://localhost:8080/",
          "height": 1000
        },
        "id": "rGQEwS4KgZMx",
        "outputId": "833e7adf-dafe-44d6-9f04-5a1624053978"
      },
      "execution_count": 25,
      "outputs": [
        {
          "output_type": "display_data",
          "data": {
            "text/plain": [
              "<IPython.core.display.Markdown object>"
            ],
            "text/markdown": "> ### Resumo:"
          },
          "metadata": {}
        },
        {
          "output_type": "display_data",
          "data": {
            "text/plain": [
              "<IPython.core.display.Markdown object>"
            ],
            "text/markdown": "> Este vídeo é uma aula prática sobre o desenvolvimento com o Gemini, o LLM do Google. A aula aborda a integração da API Gemini com Python para criar chatbots, explicando modelos, parâmetros de geração e segurança. Ele também oferece um tutorial para criar um chatbot interativo e um desafio para os alunos criarem projetos usando a API Gemini. O vídeo orienta os alunos sobre como enviar projetos para o GitHub e enfatiza as diretrizes éticas do Google."
          },
          "metadata": {}
        },
        {
          "output_type": "display_data",
          "data": {
            "text/plain": [
              "<IPython.core.display.Markdown object>"
            ],
            "text/markdown": "> ### Timeline:"
          },
          "metadata": {}
        },
        {
          "output_type": "display_data",
          "data": {
            "text/plain": [
              "<IPython.core.display.Markdown object>"
            ],
            "text/markdown": "> 00:00:01   - [Boas-vindas e introdução à aula                   ](https://www.youtube.com/watch?v=iwt4bOIHy7s&t=1.298s)"
          },
          "metadata": {}
        },
        {
          "output_type": "display_data",
          "data": {
            "text/plain": [
              "<IPython.core.display.Markdown object>"
            ],
            "text/markdown": "> 00:00:07   - [Apresentação dos instrutores                      ](https://www.youtube.com/watch?v=iwt4bOIHy7s&t=7.0s)"
          },
          "metadata": {}
        },
        {
          "output_type": "display_data",
          "data": {
            "text/plain": [
              "<IPython.core.display.Markdown object>"
            ],
            "text/markdown": "> 00:00:17   - [Objetivos da aula                                 ](https://www.youtube.com/watch?v=iwt4bOIHy7s&t=17.875s)"
          },
          "metadata": {}
        },
        {
          "output_type": "display_data",
          "data": {
            "text/plain": [
              "<IPython.core.display.Markdown object>"
            ],
            "text/markdown": "> 00:00:32   - [Como usar a IA a nosso favor                      ](https://www.youtube.com/watch?v=iwt4bOIHy7s&t=32.833s)"
          },
          "metadata": {}
        },
        {
          "output_type": "display_data",
          "data": {
            "text/plain": [
              "<IPython.core.display.Markdown object>"
            ],
            "text/markdown": "> 00:00:45   - [Não é necessário ter conhecimento prévio de programação](https://www.youtube.com/watch?v=iwt4bOIHy7s&t=45.0s)"
          },
          "metadata": {}
        },
        {
          "output_type": "display_data",
          "data": {
            "text/plain": [
              "<IPython.core.display.Markdown object>"
            ],
            "text/markdown": "> 00:01:14   - [Como obter a API Key                              ](https://www.youtube.com/watch?v=iwt4bOIHy7s&t=74.4s)"
          },
          "metadata": {}
        },
        {
          "output_type": "display_data",
          "data": {
            "text/plain": [
              "<IPython.core.display.Markdown object>"
            ],
            "text/markdown": "> 00:01:22   - [Desafio ao final da aula                          ](https://www.youtube.com/watch?v=iwt4bOIHy7s&t=82.0s)"
          },
          "metadata": {}
        },
        {
          "output_type": "display_data",
          "data": {
            "text/plain": [
              "<IPython.core.display.Markdown object>"
            ],
            "text/markdown": "> 00:02:09   - [Premiação para os melhores projetos               ](https://www.youtube.com/watch?v=iwt4bOIHy7s&t=129.625s)"
          },
          "metadata": {}
        },
        {
          "output_type": "display_data",
          "data": {
            "text/plain": [
              "<IPython.core.display.Markdown object>"
            ],
            "text/markdown": "> 00:09:52   - [Como acessar o Guia de Início Rápido              ](https://www.youtube.com/watch?v=iwt4bOIHy7s&t=592.0s)"
          },
          "metadata": {}
        },
        {
          "output_type": "display_data",
          "data": {
            "text/plain": [
              "<IPython.core.display.Markdown object>"
            ],
            "text/markdown": "> 00:10:26   - [Introdução ao processo de integração da API Gemini do Google com Python para criar um chatbot](https://www.youtube.com/watch?v=iwt4bOIHy7s&t=626.833s)"
          },
          "metadata": {}
        },
        {
          "output_type": "display_data",
          "data": {
            "text/plain": [
              "<IPython.core.display.Markdown object>"
            ],
            "text/markdown": "> 00:10:47   - [Pré-requisitos, como instalação do SDK do Google usando pip](https://www.youtube.com/watch?v=iwt4bOIHy7s&t=647.75s)"
          },
          "metadata": {}
        },
        {
          "output_type": "display_data",
          "data": {
            "text/plain": [
              "<IPython.core.display.Markdown object>"
            ],
            "text/markdown": "> 00:12:21   - [Configuração da API Key e inicialização do modelo generativo](https://www.youtube.com/watch?v=iwt4bOIHy7s&t=741.0s)"
          },
          "metadata": {}
        },
        {
          "output_type": "display_data",
          "data": {
            "text/plain": [
              "<IPython.core.display.Markdown object>"
            ],
            "text/markdown": "> 00:14:31   - [Como gerar conteúdo usando o modelo e exibir a resposta gerada](https://www.youtube.com/watch?v=iwt4bOIHy7s&t=871.375s)"
          },
          "metadata": {}
        },
        {
          "output_type": "display_data",
          "data": {
            "text/plain": [
              "<IPython.core.display.Markdown object>"
            ],
            "text/markdown": "> 00:16:50   - [Informações sobre o Discord e a comunidade do Google Cloud Innovators](https://www.youtube.com/watch?v=iwt4bOIHy7s&t=1010.833s)"
          },
          "metadata": {}
        },
        {
          "output_type": "display_data",
          "data": {
            "text/plain": [
              "<IPython.core.display.Markdown object>"
            ],
            "text/markdown": "> 00:21:02   - [Introdução aos modelos do Gemini                  ](https://www.youtube.com/watch?v=iwt4bOIHy7s&t=1262.33s)"
          },
          "metadata": {}
        },
        {
          "output_type": "display_data",
          "data": {
            "text/plain": [
              "<IPython.core.display.Markdown object>"
            ],
            "text/markdown": "> 00:21:10   - [Usando um loop for para iterar sobre os modelos   ](https://www.youtube.com/watch?v=iwt4bOIHy7s&t=1270.33s)"
          },
          "metadata": {}
        },
        {
          "output_type": "display_data",
          "data": {
            "text/plain": [
              "<IPython.core.display.Markdown object>"
            ],
            "text/markdown": "> 00:28:56   - [Definindo parâmetros de geração                   ](https://www.youtube.com/watch?v=iwt4bOIHy7s&t=1736.227s)"
          },
          "metadata": {}
        },
        {
          "output_type": "display_data",
          "data": {
            "text/plain": [
              "<IPython.core.display.Markdown object>"
            ],
            "text/markdown": "> 00:31:33   - [Configuração de parâmetros de segurança           ](https://www.youtube.com/watch?v=iwt4bOIHy7s&t=1893.653s)"
          },
          "metadata": {}
        },
        {
          "output_type": "display_data",
          "data": {
            "text/plain": [
              "<IPython.core.display.Markdown object>"
            ],
            "text/markdown": "> 00:35:54   - [Inicialização do modelo                           ](https://www.youtube.com/watch?v=iwt4bOIHy7s&t=2154.701s)"
          },
          "metadata": {}
        },
        {
          "output_type": "display_data",
          "data": {
            "text/plain": [
              "<IPython.core.display.Markdown object>"
            ],
            "text/markdown": "> 00:40:06   - [Geração de conteúdo                               ](https://www.youtube.com/watch?v=iwt4bOIHy7s&t=2406.918s)"
          },
          "metadata": {}
        },
        {
          "output_type": "display_data",
          "data": {
            "text/plain": [
              "<IPython.core.display.Markdown object>"
            ],
            "text/markdown": "> 00:41:36   - [Uso do método generate_content para criar respostas de bate-papo](https://www.youtube.com/watch?v=iwt4bOIHy7s&t=2496.224s)"
          },
          "metadata": {}
        },
        {
          "output_type": "display_data",
          "data": {
            "text/plain": [
              "<IPython.core.display.Markdown object>"
            ],
            "text/markdown": "> 00:41:52   - [Como criar um chat interativo usando o modelo de linguagem Gemini do Google](https://www.youtube.com/watch?v=iwt4bOIHy7s&t=2512.346s)"
          },
          "metadata": {}
        },
        {
          "output_type": "display_data",
          "data": {
            "text/plain": [
              "<IPython.core.display.Markdown object>"
            ],
            "text/markdown": "> 00:42:28   - [Como criar uma variável para armazenar o histórico do chat](https://www.youtube.com/watch?v=iwt4bOIHy7s&t=2548.779s)"
          },
          "metadata": {}
        },
        {
          "output_type": "display_data",
          "data": {
            "text/plain": [
              "<IPython.core.display.Markdown object>"
            ],
            "text/markdown": "> 00:42:34   - [Como inicializar a variável de histórico do chat com uma lista vazia](https://www.youtube.com/watch?v=iwt4bOIHy7s&t=2554.748s)"
          },
          "metadata": {}
        },
        {
          "output_type": "display_data",
          "data": {
            "text/plain": [
              "<IPython.core.display.Markdown object>"
            ],
            "text/markdown": "> 00:43:51   - [Como criar uma função para obter a entrada do usuário e enviá-la ao modelo](https://www.youtube.com/watch?v=iwt4bOIHy7s&t=2631.6s)"
          },
          "metadata": {}
        },
        {
          "output_type": "display_data",
          "data": {
            "text/plain": [
              "<IPython.core.display.Markdown object>"
            ],
            "text/markdown": "> 00:48:33   - [Como imprimir a resposta do modelo                ](https://www.youtube.com/watch?v=iwt4bOIHy7s&t=2913.543s)"
          },
          "metadata": {}
        },
        {
          "output_type": "display_data",
          "data": {
            "text/plain": [
              "<IPython.core.display.Markdown object>"
            ],
            "text/markdown": "> 00:46:16   - [Como usar o loop while para continuar a interação do chat até que o usuário digite \"fim\"](https://www.youtube.com/watch?v=iwt4bOIHy7s&t=2776.666s)"
          },
          "metadata": {}
        },
        {
          "output_type": "display_data",
          "data": {
            "text/plain": [
              "<IPython.core.display.Markdown object>"
            ],
            "text/markdown": "> 00:47:33   - [Como usar o método send_message do objeto de chat para enviar mensagens ao modelo](https://www.youtube.com/watch?v=iwt4bOIHy7s&t=2853.117s)"
          },
          "metadata": {}
        },
        {
          "output_type": "display_data",
          "data": {
            "text/plain": [
              "<IPython.core.display.Markdown object>"
            ],
            "text/markdown": "> 00:50:49   - [Como o modelo pode entender o contexto e responder a perguntas com base nas informações fornecidas anteriormente na conversa](https://www.youtube.com/watch?v=iwt4bOIHy7s&t=3049.549s)"
          },
          "metadata": {}
        },
        {
          "output_type": "display_data",
          "data": {
            "text/plain": [
              "<IPython.core.display.Markdown object>"
            ],
            "text/markdown": "> 00:52:17   - [Como encerrar uma interação com um chatbot        ](https://www.youtube.com/watch?v=iwt4bOIHy7s&t=3137.038s)"
          },
          "metadata": {}
        },
        {
          "output_type": "display_data",
          "data": {
            "text/plain": [
              "<IPython.core.display.Markdown object>"
            ],
            "text/markdown": "> 00:52:28   - [Como usar o código fornecido para exibir o histórico do chat de uma forma mais bonita](https://www.youtube.com/watch?v=iwt4bOIHy7s&t=3148.228s)"
          },
          "metadata": {}
        },
        {
          "output_type": "display_data",
          "data": {
            "text/plain": [
              "<IPython.core.display.Markdown object>"
            ],
            "text/markdown": "> 00:55:20   - [Apresentação do desafio da imersão                ](https://www.youtube.com/watch?v=iwt4bOIHy7s&t=3320.0s)"
          },
          "metadata": {}
        },
        {
          "output_type": "display_data",
          "data": {
            "text/plain": [
              "<IPython.core.display.Markdown object>"
            ],
            "text/markdown": "> 00:59:31   - [Critérios de avaliação do projeto                 ](https://www.youtube.com/watch?v=iwt4bOIHy7s&t=3571.0s)"
          },
          "metadata": {}
        },
        {
          "output_type": "display_data",
          "data": {
            "text/plain": [
              "<IPython.core.display.Markdown object>"
            ],
            "text/markdown": "> 01:01:50   - [Diretrizes éticas do Google                       ](https://www.youtube.com/watch?v=iwt4bOIHy7s&t=3710.859s)"
          },
          "metadata": {}
        },
        {
          "output_type": "display_data",
          "data": {
            "text/plain": [
              "<IPython.core.display.Markdown object>"
            ],
            "text/markdown": "> 01:02:30   - [Análise e avaliação dos projetos                  ](https://www.youtube.com/watch?v=iwt4bOIHy7s&t=3750.504s)"
          },
          "metadata": {}
        },
        {
          "output_type": "display_data",
          "data": {
            "text/plain": [
              "<IPython.core.display.Markdown object>"
            ],
            "text/markdown": "> 01:02:35   - [Escolha dos 10 melhores projetos para ganhar prêmios](https://www.youtube.com/watch?v=iwt4bOIHy7s&t=3755.0s)"
          },
          "metadata": {}
        },
        {
          "output_type": "display_data",
          "data": {
            "text/plain": [
              "<IPython.core.display.Markdown object>"
            ],
            "text/markdown": "> 01:02:40   - [Prêmios disponíveis na página da imersão          ](https://www.youtube.com/watch?v=iwt4bOIHy7s&t=3760.0s)"
          },
          "metadata": {}
        },
        {
          "output_type": "display_data",
          "data": {
            "text/plain": [
              "<IPython.core.display.Markdown object>"
            ],
            "text/markdown": "> 01:02:46   - [Apresentação dos projetos vencedores na live de encerramento](https://www.youtube.com/watch?v=iwt4bOIHy7s&t=3766.084s)"
          },
          "metadata": {}
        },
        {
          "output_type": "display_data",
          "data": {
            "text/plain": [
              "<IPython.core.display.Markdown object>"
            ],
            "text/markdown": "> 01:03:00   - [Incentivo para iniciar o trabalho no projeto      ](https://www.youtube.com/watch?v=iwt4bOIHy7s&t=3780.0s)"
          },
          "metadata": {}
        },
        {
          "output_type": "display_data",
          "data": {
            "text/plain": [
              "<IPython.core.display.Markdown object>"
            ],
            "text/markdown": "> 01:03:08   - [Análise dos projetos e recomendação para assistir à próxima aula](https://www.youtube.com/watch?v=iwt4bOIHy7s&t=3788.0s)"
          },
          "metadata": {}
        },
        {
          "output_type": "display_data",
          "data": {
            "text/plain": [
              "<IPython.core.display.Markdown object>"
            ],
            "text/markdown": "> 01:03:19   - [Recomendação para não perder a live de encerramento](https://www.youtube.com/watch?v=iwt4bOIHy7s&t=3799.958s)"
          },
          "metadata": {}
        },
        {
          "output_type": "display_data",
          "data": {
            "text/plain": [
              "<IPython.core.display.Markdown object>"
            ],
            "text/markdown": "> 01:03:29   - [Horário da live de encerramento                   ](https://www.youtube.com/watch?v=iwt4bOIHy7s&t=3809.0s)"
          },
          "metadata": {}
        },
        {
          "output_type": "display_data",
          "data": {
            "text/plain": [
              "<IPython.core.display.Markdown object>"
            ],
            "text/markdown": "> 01:03:39   - [Link do Guia de Mergulho com informações sobre a live](https://www.youtube.com/watch?v=iwt4bOIHy7s&t=3819.126s)"
          },
          "metadata": {}
        },
        {
          "output_type": "display_data",
          "data": {
            "text/plain": [
              "<IPython.core.display.Markdown object>"
            ],
            "text/markdown": "> 01:03:42   - [Live de encerramento disponível no canal do YouTube da Alura](https://www.youtube.com/watch?v=iwt4bOIHy7s&t=3822.21s)"
          },
          "metadata": {}
        },
        {
          "output_type": "display_data",
          "data": {
            "text/plain": [
              "<IPython.core.display.Markdown object>"
            ],
            "text/markdown": "> 01:03:46   - [Notificações para a live de encerramento          ](https://www.youtube.com/watch?v=iwt4bOIHy7s&t=3826.818s)"
          },
          "metadata": {}
        },
        {
          "output_type": "display_data",
          "data": {
            "text/plain": [
              "<IPython.core.display.Markdown object>"
            ],
            "text/markdown": "> 01:03:52   - [Projeto lançado                                   ](https://www.youtube.com/watch?v=iwt4bOIHy7s&t=3832.0s)"
          },
          "metadata": {}
        },
        {
          "output_type": "display_data",
          "data": {
            "text/plain": [
              "<IPython.core.display.Markdown object>"
            ],
            "text/markdown": "> 01:03:55   - [Instruções para iniciar o projeto                 ](https://www.youtube.com/watch?v=iwt4bOIHy7s&t=3835.21s)"
          },
          "metadata": {}
        },
        {
          "output_type": "display_data",
          "data": {
            "text/plain": [
              "<IPython.core.display.Markdown object>"
            ],
            "text/markdown": "> 01:03:59   - [Informações sobre o enunciado e descrição do projeto](https://www.youtube.com/watch?v=iwt4bOIHy7s&t=3839.458s)"
          },
          "metadata": {}
        },
        {
          "output_type": "display_data",
          "data": {
            "text/plain": [
              "<IPython.core.display.Markdown object>"
            ],
            "text/markdown": "> 01:04:07   - [Lembrete sobre o Discord para dúvidas             ](https://www.youtube.com/watch?v=iwt4bOIHy7s&t=3847.75s)"
          },
          "metadata": {}
        },
        {
          "output_type": "display_data",
          "data": {
            "text/plain": [
              "<IPython.core.display.Markdown object>"
            ],
            "text/markdown": "> 01:04:18   - [Certificado de participação na imersão            ](https://www.youtube.com/watch?v=iwt4bOIHy7s&t=3858.0s)"
          },
          "metadata": {}
        },
        {
          "output_type": "display_data",
          "data": {
            "text/plain": [
              "<IPython.core.display.Markdown object>"
            ],
            "text/markdown": "> 01:04:24   - [Recomendação para assistir a todas as aulas       ](https://www.youtube.com/watch?v=iwt4bOIHy7s&t=3864.252s)"
          },
          "metadata": {}
        },
        {
          "output_type": "display_data",
          "data": {
            "text/plain": [
              "<IPython.core.display.Markdown object>"
            ],
            "text/markdown": "> 01:04:39   - [Documentação do AI Studio e Gemini API para acelerar os testes](https://www.youtube.com/watch?v=iwt4bOIHy7s&t=3879.333s)"
          },
          "metadata": {}
        },
        {
          "output_type": "display_data",
          "data": {
            "text/plain": [
              "<IPython.core.display.Markdown object>"
            ],
            "text/markdown": "> 01:05:04   - [Aula 5 com conteúdo mais avançado                 ](https://www.youtube.com/watch?v=iwt4bOIHy7s&t=3904.63s)"
          },
          "metadata": {}
        },
        {
          "output_type": "display_data",
          "data": {
            "text/plain": [
              "<IPython.core.display.Markdown object>"
            ],
            "text/markdown": "> 01:05:19   - [Acesso a documentos e busca de texto              ](https://www.youtube.com/watch?v=iwt4bOIHy7s&t=3919.294s)"
          },
          "metadata": {}
        },
        {
          "output_type": "display_data",
          "data": {
            "text/plain": [
              "<IPython.core.display.Markdown object>"
            ],
            "text/markdown": "> 01:05:30   - [Despedida e conteúdo extra sobre upload de projetos no GitHub](https://www.youtube.com/watch?v=iwt4bOIHy7s&t=3930.958s)"
          },
          "metadata": {}
        },
        {
          "output_type": "display_data",
          "data": {
            "text/plain": [
              "<IPython.core.display.Markdown object>"
            ],
            "text/markdown": "> 01:05:44   - [Instruções para upload de projetos no GitHub      ](https://www.youtube.com/watch?v=iwt4bOIHy7s&t=3944.0s)"
          },
          "metadata": {}
        },
        {
          "output_type": "display_data",
          "data": {
            "text/plain": [
              "<IPython.core.display.Markdown object>"
            ],
            "text/markdown": "> 01:06:41   - [Criação de repositório no GitHub                  ](https://www.youtube.com/watch?v=iwt4bOIHy7s&t=4001.0s)"
          },
          "metadata": {}
        },
        {
          "output_type": "display_data",
          "data": {
            "text/plain": [
              "<IPython.core.display.Markdown object>"
            ],
            "text/markdown": "> 01:06:48   - [Upload de arquivos do Colab para o GitHub         ](https://www.youtube.com/watch?v=iwt4bOIHy7s&t=4008.58s)"
          },
          "metadata": {}
        },
        {
          "output_type": "display_data",
          "data": {
            "text/plain": [
              "<IPython.core.display.Markdown object>"
            ],
            "text/markdown": "> 01:10:11   - [Importância do ReadMe File para conexão com o Colab](https://www.youtube.com/watch?v=iwt4bOIHy7s&t=4211.672s)"
          },
          "metadata": {}
        },
        {
          "output_type": "display_data",
          "data": {
            "text/plain": [
              "<IPython.core.display.Markdown object>"
            ],
            "text/markdown": "> 01:12:43   - [Markdown para documentação de projetos            ](https://www.youtube.com/watch?v=iwt4bOIHy7s&t=4363.0s)"
          },
          "metadata": {}
        },
        {
          "output_type": "display_data",
          "data": {
            "text/plain": [
              "<IPython.core.display.Markdown object>"
            ],
            "text/markdown": "> 01:13:27   - [Upload de projetos para o GitHub usando o Colab   ](https://www.youtube.com/watch?v=iwt4bOIHy7s&t=4407.756s)"
          },
          "metadata": {}
        },
        {
          "output_type": "display_data",
          "data": {
            "text/plain": [
              "<IPython.core.display.Markdown object>"
            ],
            "text/markdown": "> 01:19:45   - [Ocultar API Key usando segredos do Colab          ](https://www.youtube.com/watch?v=iwt4bOIHy7s&t=4785.0s)"
          },
          "metadata": {}
        }
      ]
    }
  ]
}